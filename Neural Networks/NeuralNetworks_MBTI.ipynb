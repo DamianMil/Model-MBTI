{
 "cells": [
  {
   "cell_type": "code",
   "execution_count": 1,
   "metadata": {},
   "outputs": [],
   "source": [
    "import pandas as pd\n",
    "import numpy as np\n",
    "from tensorflow.keras.preprocessing.text import Tokenizer\n",
    "from tensorflow.keras.preprocessing.sequence import pad_sequences\n",
    "from tensorflow.keras.models import Sequential\n",
    "from tensorflow.keras.layers import Dense, Embedding, LSTM\n",
    "from sklearn.model_selection import StratifiedShuffleSplit, StratifiedKFold, cross_val_score\n",
    "from tensorflow.keras.wrappers.scikit_learn import KerasClassifier\n",
    "from sklearn.preprocessing import LabelEncoder\n",
    "from sklearn.metrics import accuracy_score, f1_score"
   ]
  },
  {
   "cell_type": "code",
   "execution_count": 2,
   "metadata": {},
   "outputs": [],
   "source": [
    "df = pd.read_csv('Done_mbti.csv')"
   ]
  },
  {
   "cell_type": "code",
   "execution_count": 3,
   "metadata": {},
   "outputs": [],
   "source": [
    "X = df['posts']\n",
    "y = df['type']"
   ]
  },
  {
   "cell_type": "code",
   "execution_count": 4,
   "metadata": {},
   "outputs": [],
   "source": [
    "le = LabelEncoder()\n",
    "y = le.fit_transform(y)"
   ]
  },
  {
   "cell_type": "code",
   "execution_count": 5,
   "metadata": {},
   "outputs": [],
   "source": [
    "max_words = 1000\n",
    "tokenizer = Tokenizer(num_words=max_words)\n",
    "tokenizer.fit_on_texts(X)\n",
    "sequences = tokenizer.texts_to_sequences(X)"
   ]
  },
  {
   "cell_type": "code",
   "execution_count": 6,
   "metadata": {},
   "outputs": [],
   "source": [
    "maxlen = max(len(x) for x in sequences)"
   ]
  },
  {
   "cell_type": "code",
   "execution_count": 7,
   "metadata": {},
   "outputs": [],
   "source": [
    "padded_sequences = pad_sequences(sequences, maxlen=maxlen)"
   ]
  },
  {
   "cell_type": "code",
   "execution_count": 8,
   "metadata": {},
   "outputs": [],
   "source": [
    "splitter = StratifiedShuffleSplit(n_splits=1, test_size=0.2, random_state=42)\n",
    "train_indices, test_indices = next(splitter.split(padded_sequences, y))\n",
    "X_train, X_test = padded_sequences[train_indices], padded_sequences[test_indices]\n",
    "y_train, y_test = y[train_indices], y[test_indices]"
   ]
  },
  {
   "cell_type": "code",
   "execution_count": 9,
   "metadata": {},
   "outputs": [],
   "source": [
    "model = Sequential()\n",
    "model.add(Embedding(1000, 128, input_length=maxlen))\n",
    "model.add(LSTM(128, dropout=0.2, recurrent_dropout=0.2))\n",
    "model.add(Dense(16, activation='softmax'))"
   ]
  },
  {
   "cell_type": "code",
   "execution_count": 10,
   "metadata": {},
   "outputs": [],
   "source": [
    "model.compile(loss='sparse_categorical_crossentropy', optimizer='adam', metrics=['accuracy'])"
   ]
  },
  {
   "cell_type": "code",
   "execution_count": 38,
   "metadata": {},
   "outputs": [
    {
     "name": "stdout",
     "output_type": "stream",
     "text": [
      "Epoch 1/10\n",
      "217/217 [==============================] - 221s 1s/step - loss: 2.3225 - accuracy: 0.1976 - val_loss: 2.2897 - val_accuracy: 0.2092\n",
      "Epoch 2/10\n",
      "217/217 [==============================] - 225s 1s/step - loss: 2.2640 - accuracy: 0.2237 - val_loss: 2.2874 - val_accuracy: 0.1816\n",
      "Epoch 3/10\n",
      "217/217 [==============================] - 217s 1s/step - loss: 2.1510 - accuracy: 0.2904 - val_loss: 2.3350 - val_accuracy: 0.2023\n",
      "Epoch 4/10\n",
      "217/217 [==============================] - 217s 1s/step - loss: 2.0187 - accuracy: 0.3411 - val_loss: 2.3441 - val_accuracy: 0.2225\n",
      "Epoch 5/10\n",
      "217/217 [==============================] - 218s 1s/step - loss: 1.9127 - accuracy: 0.3696 - val_loss: 2.4579 - val_accuracy: 0.2046\n",
      "Epoch 6/10\n",
      "217/217 [==============================] - 225s 1s/step - loss: 1.8094 - accuracy: 0.3957 - val_loss: 2.6120 - val_accuracy: 0.2115\n",
      "Epoch 7/10\n",
      "217/217 [==============================] - 226s 1s/step - loss: 1.7010 - accuracy: 0.4382 - val_loss: 2.5559 - val_accuracy: 0.2161\n",
      "Epoch 8/10\n",
      "217/217 [==============================] - 217s 1000ms/step - loss: 1.5747 - accuracy: 0.4738 - val_loss: 2.6233 - val_accuracy: 0.2179\n",
      "Epoch 9/10\n",
      "217/217 [==============================] - 220s 1s/step - loss: 1.4715 - accuracy: 0.5097 - val_loss: 2.7324 - val_accuracy: 0.2017\n",
      "Epoch 10/10\n",
      "217/217 [==============================] - 230s 1s/step - loss: 1.3582 - accuracy: 0.5435 - val_loss: 2.7374 - val_accuracy: 0.2167\n"
     ]
    },
    {
     "data": {
      "text/plain": [
       "<keras.callbacks.History at 0x2648dfe9bd0>"
      ]
     },
     "execution_count": 38,
     "metadata": {},
     "output_type": "execute_result"
    }
   ],
   "source": [
    "model.fit(X_train, y_train, epochs=10, batch_size=32, validation_data=(X_test, y_test))"
   ]
  },
  {
   "cell_type": "code",
   "execution_count": 11,
   "metadata": {},
   "outputs": [
    {
     "name": "stdout",
     "output_type": "stream",
     "text": [
      "55/55 [==============================] - 5s 91ms/step\n"
     ]
    }
   ],
   "source": [
    "y_pred_prob = model.predict(X_test)\n",
    "y_pred = np.argmax(y_pred_prob, axis=1)"
   ]
  },
  {
   "cell_type": "code",
   "execution_count": 12,
   "metadata": {},
   "outputs": [],
   "source": [
    "y_true = le.inverse_transform(y_test)\n",
    "y_pred = le.inverse_transform(y_pred)"
   ]
  },
  {
   "cell_type": "code",
   "execution_count": null,
   "metadata": {},
   "outputs": [],
   "source": [
    "print(\"Accuracy score: \", accuracy_score(y_true, y_pred))\n",
    "print(\"F1 score: \", f1_score(y_true, y_pred, average='weighted'))"
   ]
  }
 ],
 "metadata": {
  "kernelspec": {
   "display_name": "Python 3",
   "language": "python",
   "name": "python3"
  },
  "language_info": {
   "codemirror_mode": {
    "name": "ipython",
    "version": 3
   },
   "file_extension": ".py",
   "mimetype": "text/x-python",
   "name": "python",
   "nbconvert_exporter": "python",
   "pygments_lexer": "ipython3",
   "version": "3.10.10"
  },
  "orig_nbformat": 4,
  "vscode": {
   "interpreter": {
    "hash": "47e86e659cc4c7e7c8281f4dfa198d26eba569ed7d4f5779d5419dff2bd0d92c"
   }
  }
 },
 "nbformat": 4,
 "nbformat_minor": 2
}
